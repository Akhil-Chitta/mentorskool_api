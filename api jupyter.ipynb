{
 "cells": [
  {
   "cell_type": "code",
   "execution_count": 1,
   "metadata": {},
   "outputs": [],
   "source": [
    "import requests\n",
    "import json\n",
    "import hashlib\n",
    "import pandas as pd\n",
    "import datetime\n",
    "import string\n",
    "from pprint import pprint as pp\n",
    "import time\n",
    "from pandas import json_normalize\n",
    "import os"
   ]
  },
  {
   "cell_type": "code",
   "execution_count": 2,
   "metadata": {},
   "outputs": [],
   "source": [
    "request_url = 'http://gateway.marvel.com/v1/public/characters'\n",
    "public_key= '2c560d4fa00f2af1802aac30fc3fab93'\n",
    "private_key= '156a3abb9272f2bf9d301958f307f961f7310c6e'\n",
    "ts = datetime.datetime.now()\n",
    "limit = 100"
   ]
  },
  {
   "cell_type": "code",
   "execution_count": 3,
   "metadata": {},
   "outputs": [],
   "source": [
    "def hash_params():\n",
    "    hash_md5 = hashlib.md5()\n",
    "    hash_md5.update(f'{ts}{private_key}{public_key}'.encode('utf-8'))\n",
    "    hash_params = hash_md5.hexdigest() \n",
    "    return hash_params\n",
    "appended_data=[]  \n",
    "for i in string.ascii_uppercase:  \n",
    "    nameStartsWith = i\n",
    "    params ={'ts':ts,'apikey':public_key,'hash':hash_params(),\n",
    "          'nameStartsWith':nameStartsWith,'limit':limit}\n",
    "    response = requests.get(request_url,params=params)\n",
    "    data_1 =response.json()\n",
    "    df_1 = pd.json_normalize(data_1,record_path=['data','results'])\n",
    "    appended_data.append(df_1)\n",
    "df=pd.concat(appended_data)\n"
   ]
  },
  {
   "cell_type": "code",
   "execution_count": 7,
   "metadata": {},
   "outputs": [
    {
     "data": {
      "text/html": [
       "<div>\n",
       "<style scoped>\n",
       "    .dataframe tbody tr th:only-of-type {\n",
       "        vertical-align: middle;\n",
       "    }\n",
       "\n",
       "    .dataframe tbody tr th {\n",
       "        vertical-align: top;\n",
       "    }\n",
       "\n",
       "    .dataframe thead th {\n",
       "        text-align: right;\n",
       "    }\n",
       "</style>\n",
       "<table border=\"1\" class=\"dataframe\">\n",
       "  <thead>\n",
       "    <tr style=\"text-align: right;\">\n",
       "      <th></th>\n",
       "      <th>name</th>\n",
       "      <th>id</th>\n",
       "      <th>comics.available</th>\n",
       "      <th>stories.available</th>\n",
       "      <th>events.available</th>\n",
       "      <th>series.available</th>\n",
       "    </tr>\n",
       "  </thead>\n",
       "  <tbody>\n",
       "    <tr>\n",
       "      <th>0</th>\n",
       "      <td>A-Bomb (HAS)</td>\n",
       "      <td>1017100</td>\n",
       "      <td>4</td>\n",
       "      <td>7</td>\n",
       "      <td>0</td>\n",
       "      <td>2</td>\n",
       "    </tr>\n",
       "    <tr>\n",
       "      <th>1</th>\n",
       "      <td>A.I.M.</td>\n",
       "      <td>1009144</td>\n",
       "      <td>51</td>\n",
       "      <td>54</td>\n",
       "      <td>0</td>\n",
       "      <td>34</td>\n",
       "    </tr>\n",
       "    <tr>\n",
       "      <th>2</th>\n",
       "      <td>Aaron Stack</td>\n",
       "      <td>1010699</td>\n",
       "      <td>14</td>\n",
       "      <td>27</td>\n",
       "      <td>0</td>\n",
       "      <td>3</td>\n",
       "    </tr>\n",
       "    <tr>\n",
       "      <th>3</th>\n",
       "      <td>Abomination (Emil Blonsky)</td>\n",
       "      <td>1009146</td>\n",
       "      <td>55</td>\n",
       "      <td>65</td>\n",
       "      <td>1</td>\n",
       "      <td>27</td>\n",
       "    </tr>\n",
       "    <tr>\n",
       "      <th>4</th>\n",
       "      <td>Abomination (Ultimate)</td>\n",
       "      <td>1016823</td>\n",
       "      <td>2</td>\n",
       "      <td>3</td>\n",
       "      <td>0</td>\n",
       "      <td>2</td>\n",
       "    </tr>\n",
       "  </tbody>\n",
       "</table>\n",
       "</div>"
      ],
      "text/plain": [
       "                         name       id  comics.available  stories.available  \\\n",
       "0                A-Bomb (HAS)  1017100                 4                  7   \n",
       "1                      A.I.M.  1009144                51                 54   \n",
       "2                 Aaron Stack  1010699                14                 27   \n",
       "3  Abomination (Emil Blonsky)  1009146                55                 65   \n",
       "4      Abomination (Ultimate)  1016823                 2                  3   \n",
       "\n",
       "   events.available  series.available  \n",
       "0                 0                 2  \n",
       "1                 0                34  \n",
       "2                 0                 3  \n",
       "3                 1                27  \n",
       "4                 0                 2  "
      ]
     },
     "execution_count": 7,
     "metadata": {},
     "output_type": "execute_result"
    }
   ],
   "source": [
    "df.head()\n",
    "df.shape\n",
    "df_new=df[['name','id','comics.available','stories.available',\n",
    "                       'events.available','series.available']]\n",
    "df_new.head()"
   ]
  },
  {
   "cell_type": "code",
   "execution_count": null,
   "metadata": {},
   "outputs": [],
   "source": []
  }
 ],
 "metadata": {
  "kernelspec": {
   "display_name": "Python 3.10.6 ('marvel': venv)",
   "language": "python",
   "name": "python3"
  },
  "language_info": {
   "codemirror_mode": {
    "name": "ipython",
    "version": 3
   },
   "file_extension": ".py",
   "mimetype": "text/x-python",
   "name": "python",
   "nbconvert_exporter": "python",
   "pygments_lexer": "ipython3",
   "version": "3.10.6"
  },
  "orig_nbformat": 4,
  "vscode": {
   "interpreter": {
    "hash": "cec7b244aa75bb261ff9c71c05057177cd76dada81bfc380265178165d229e7f"
   }
  }
 },
 "nbformat": 4,
 "nbformat_minor": 2
}
